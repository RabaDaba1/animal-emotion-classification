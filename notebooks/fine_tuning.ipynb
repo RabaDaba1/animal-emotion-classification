{
 "cells": [
  {
   "cell_type": "markdown",
   "id": "0f60bba3",
   "metadata": {},
   "source": [
    "# Fine-tuning MobileNetV3 for Pet Emotion Classification\n",
    "\n",
    "This notebook fine-tunes a pretrained MobileNetV3 model on two pet emotion datasets to classify emotions: **happy**, **sad**, and **angry**.\n",
    "\n",
    "## Datasets:\n",
    "1. Dog Emotion Dataset (4000 images)\n",
    "2. Pet's Facial Expression Dataset (1000 images)\n",
    "\n",
    "We'll combine both datasets and focus only on the three target emotions."
   ]
  },
  {
   "cell_type": "code",
   "execution_count": null,
   "id": "3dda700c",
   "metadata": {
    "execution": {
     "iopub.execute_input": "2025-06-01T14:10:26.244271Z",
     "iopub.status.busy": "2025-06-01T14:10:26.243972Z",
     "iopub.status.idle": "2025-06-01T14:10:26.250951Z",
     "shell.execute_reply": "2025-06-01T14:10:26.250193Z",
     "shell.execute_reply.started": "2025-06-01T14:10:26.244246Z"
    },
    "trusted": true
   },
   "outputs": [
    {
     "name": "stdout",
     "output_type": "stream",
     "text": [
      "Using device: cuda\n"
     ]
    }
   ],
   "source": [
    "import os\n",
    "import pandas as pd\n",
    "import numpy as np\n",
    "import matplotlib.pyplot as plt\n",
    "import seaborn as sns\n",
    "from PIL import Image\n",
    "import shutil\n",
    "from pathlib import Path\n",
    "\n",
    "import torch\n",
    "import torch.nn as nn\n",
    "import torch.optim as optim\n",
    "from torch.utils.data import Dataset, DataLoader, random_split\n",
    "import torchvision.transforms as transforms\n",
    "from torchvision.datasets import ImageFolder\n",
    "import timm\n",
    "\n",
    "from sklearn.metrics import classification_report, confusion_matrix\n",
    "from sklearn.model_selection import train_test_split\n",
    "\n",
    "import warnings\n",
    "\n",
    "warnings.filterwarnings(\"ignore\")\n",
    "\n",
    "# Set device\n",
    "device = torch.device(\"cuda\" if torch.cuda.is_available() else \"cpu\")\n",
    "print(f\"Using device: {device}\")"
   ]
  },
  {
   "cell_type": "markdown",
   "id": "a0d75318",
   "metadata": {},
   "source": [
    "## Data Loading and Preparation\n",
    "\n",
    "First, let's load both datasets and combine them for training."
   ]
  },
  {
   "cell_type": "code",
   "execution_count": null,
   "id": "048fe053",
   "metadata": {
    "execution": {
     "iopub.execute_input": "2025-06-01T14:10:27.956187Z",
     "iopub.status.busy": "2025-06-01T14:10:27.955375Z",
     "iopub.status.idle": "2025-06-01T14:10:27.961308Z",
     "shell.execute_reply": "2025-06-01T14:10:27.960610Z",
     "shell.execute_reply.started": "2025-06-01T14:10:27.956162Z"
    },
    "trusted": true
   },
   "outputs": [
    {
     "name": "stdout",
     "output_type": "stream",
     "text": [
      "Created directories for combined dataset\n"
     ]
    }
   ],
   "source": [
    "DOG_EMOTION_PATH = \"/kaggle/input/dog-emotion/Dog Emotion\"\n",
    "PET_EXPRESSION_PATH = \"/kaggle/input/pets-facial-expression-dataset\"\n",
    "\n",
    "COMBINED_DATA_PATH = \"/kaggle/working/combined_pet_emotions\"\n",
    "os.makedirs(COMBINED_DATA_PATH, exist_ok=True)\n",
    "\n",
    "emotions = [\"happy\", \"sad\", \"angry\"]\n",
    "for emotion in emotions:\n",
    "    os.makedirs(os.path.join(COMBINED_DATA_PATH, emotion), exist_ok=True)\n",
    "\n",
    "print(\"Created directories for combined dataset\")"
   ]
  },
  {
   "cell_type": "code",
   "execution_count": null,
   "id": "2a8f0d18",
   "metadata": {
    "execution": {
     "iopub.execute_input": "2025-06-01T14:10:29.681307Z",
     "iopub.status.busy": "2025-06-01T14:10:29.680849Z",
     "iopub.status.idle": "2025-06-01T14:10:54.327408Z",
     "shell.execute_reply": "2025-06-01T14:10:54.326738Z",
     "shell.execute_reply.started": "2025-06-01T14:10:29.681282Z"
    },
    "trusted": true
   },
   "outputs": [
    {
     "name": "stdout",
     "output_type": "stream",
     "text": [
      "Processing Dog Emotion dataset...\n",
      "Processing Pet Expression dataset...\n",
      "Total images copied: 3500\n",
      "happy: 1000 images\n",
      "sad: 1250 images\n",
      "angry: 1250 images\n"
     ]
    }
   ],
   "source": [
    "def copy_images_to_combined_dataset():\n",
    "    image_count = 0\n",
    "\n",
    "    print(\"Processing Dog Emotion dataset...\")\n",
    "    for emotion in emotions:\n",
    "        source_dir = os.path.join(DOG_EMOTION_PATH, emotion)\n",
    "        target_dir = os.path.join(COMBINED_DATA_PATH, emotion)\n",
    "\n",
    "        if os.path.exists(source_dir):\n",
    "            for img_file in os.listdir(source_dir):\n",
    "                if img_file.lower().endswith((\".jpg\", \".jpeg\", \".png\")):\n",
    "                    source_path = os.path.join(source_dir, img_file)\n",
    "                    target_path = os.path.join(target_dir, f\"dog_{img_file}\")\n",
    "                    shutil.copy2(source_path, target_path)\n",
    "                    image_count += 1\n",
    "\n",
    "    print(\"Processing Pet Expression dataset...\")\n",
    "    emotion_mapping = {\"Happy\": \"happy\", \"Sad\": \"sad\", \"Angry\": \"angry\"}\n",
    "\n",
    "    for source_emotion, target_emotion in emotion_mapping.items():\n",
    "        source_dir = os.path.join(PET_EXPRESSION_PATH, source_emotion)\n",
    "        target_dir = os.path.join(COMBINED_DATA_PATH, target_emotion)\n",
    "\n",
    "        if os.path.exists(source_dir):\n",
    "            for img_file in os.listdir(source_dir):\n",
    "                if img_file.lower().endswith((\".jpg\", \".jpeg\", \".png\")):\n",
    "                    source_path = os.path.join(source_dir, img_file)\n",
    "                    target_path = os.path.join(target_dir, f\"pet_{img_file}\")\n",
    "                    shutil.copy2(source_path, target_path)\n",
    "                    image_count += 1\n",
    "\n",
    "    return image_count\n",
    "\n",
    "\n",
    "total_images = copy_images_to_combined_dataset()\n",
    "print(f\"Total images copied: {total_images}\")\n",
    "\n",
    "for emotion in emotions:\n",
    "    emotion_dir = os.path.join(COMBINED_DATA_PATH, emotion)\n",
    "    count = len(\n",
    "        [\n",
    "            f\n",
    "            for f in os.listdir(emotion_dir)\n",
    "            if f.lower().endswith((\".jpg\", \".jpeg\", \".png\"))\n",
    "        ]\n",
    "    )\n",
    "    print(f\"{emotion}: {count} images\")"
   ]
  },
  {
   "cell_type": "markdown",
   "id": "2824be3e",
   "metadata": {},
   "source": [
    "## Data Transforms and Dataset Setup\n",
    "\n",
    "Define data augmentation and normalization transforms for training and validation."
   ]
  },
  {
   "cell_type": "code",
   "execution_count": null,
   "id": "f8bb473f",
   "metadata": {
    "execution": {
     "iopub.execute_input": "2025-06-01T14:11:05.851305Z",
     "iopub.status.busy": "2025-06-01T14:11:05.851042Z",
     "iopub.status.idle": "2025-06-01T14:11:05.869910Z",
     "shell.execute_reply": "2025-06-01T14:11:05.869238Z",
     "shell.execute_reply.started": "2025-06-01T14:11:05.851286Z"
    },
    "trusted": true
   },
   "outputs": [
    {
     "name": "stdout",
     "output_type": "stream",
     "text": [
      "Total dataset size: 3500\n",
      "Classes: ['angry', 'happy', 'sad']\n",
      "Class to index mapping: {'angry': 0, 'happy': 1, 'sad': 2}\n",
      "Train dataset size: 2800\n",
      "Validation dataset size: 700\n"
     ]
    }
   ],
   "source": [
    "train_transforms = transforms.Compose(\n",
    "    [\n",
    "        transforms.Resize((224, 224)),\n",
    "        transforms.RandomHorizontalFlip(p=0.7),\n",
    "        transforms.RandomRotation(degrees=30),\n",
    "        transforms.RandomAffine(\n",
    "            degrees=0, translate=(0.1, 0.1), scale=(0.8, 1.2), shear=10\n",
    "        ),\n",
    "        transforms.ColorJitter(brightness=0.4, contrast=0.4, saturation=0.4, hue=0.2),\n",
    "        transforms.RandomGrayscale(p=0.1),\n",
    "        transforms.ToTensor(),\n",
    "        transforms.Normalize(mean=[0.485, 0.456, 0.406], std=[0.229, 0.224, 0.225]),\n",
    "    ]\n",
    ")\n",
    "\n",
    "val_transforms = transforms.Compose(\n",
    "    [\n",
    "        transforms.Resize((224, 224)),\n",
    "        transforms.ToTensor(),\n",
    "        transforms.Normalize(mean=[0.485, 0.456, 0.406], std=[0.229, 0.224, 0.225]),\n",
    "    ]\n",
    ")\n",
    "\n",
    "full_dataset = ImageFolder(root=COMBINED_DATA_PATH, transform=train_transforms)\n",
    "print(f\"Total dataset size: {len(full_dataset)}\")\n",
    "print(f\"Classes: {full_dataset.classes}\")\n",
    "print(f\"Class to index mapping: {full_dataset.class_to_idx}\")\n",
    "\n",
    "train_size = int(0.8 * len(full_dataset))\n",
    "val_size = len(full_dataset) - train_size\n",
    "\n",
    "train_dataset, val_dataset = random_split(full_dataset, [train_size, val_size])\n",
    "\n",
    "val_dataset.dataset.transform = val_transforms\n",
    "\n",
    "print(f\"Train dataset size: {len(train_dataset)}\")\n",
    "print(f\"Validation dataset size: {len(val_dataset)}\")"
   ]
  },
  {
   "cell_type": "code",
   "execution_count": null,
   "id": "83f422c2",
   "metadata": {
    "execution": {
     "iopub.execute_input": "2025-06-01T14:11:11.144352Z",
     "iopub.status.busy": "2025-06-01T14:11:11.143849Z",
     "iopub.status.idle": "2025-06-01T14:11:11.149555Z",
     "shell.execute_reply": "2025-06-01T14:11:11.148735Z",
     "shell.execute_reply.started": "2025-06-01T14:11:11.144329Z"
    },
    "trusted": true
   },
   "outputs": [
    {
     "name": "stdout",
     "output_type": "stream",
     "text": [
      "Number of training batches: 88\n",
      "Number of validation batches: 22\n"
     ]
    }
   ],
   "source": [
    "batch_size = 32\n",
    "\n",
    "train_loader = DataLoader(\n",
    "    train_dataset, batch_size=batch_size, shuffle=True, num_workers=2, pin_memory=True\n",
    ")\n",
    "\n",
    "val_loader = DataLoader(\n",
    "    val_dataset, batch_size=batch_size, shuffle=False, num_workers=2, pin_memory=True\n",
    ")\n",
    "\n",
    "print(f\"Number of training batches: {len(train_loader)}\")\n",
    "print(f\"Number of validation batches: {len(val_loader)}\")"
   ]
  },
  {
   "cell_type": "markdown",
   "id": "7d2338ac",
   "metadata": {},
   "source": [
    "## Model Setup\n",
    "\n",
    "Load the pretrained MobileNetV3 model and modify it for our 3-class classification task."
   ]
  },
  {
   "cell_type": "code",
   "execution_count": null,
   "id": "a30db401",
   "metadata": {
    "execution": {
     "iopub.execute_input": "2025-06-01T14:11:19.042660Z",
     "iopub.status.busy": "2025-06-01T14:11:19.041930Z",
     "iopub.status.idle": "2025-06-01T14:11:19.705878Z",
     "shell.execute_reply": "2025-06-01T14:11:19.705214Z",
     "shell.execute_reply.started": "2025-06-01T14:11:19.042625Z"
    },
    "trusted": true
   },
   "outputs": [
    {
     "data": {
      "application/vnd.jupyter.widget-view+json": {
       "model_id": "96aa1ba6678f42058b99244d80116cdb",
       "version_major": 2,
       "version_minor": 0
      },
      "text/plain": [
       "model.safetensors:   0%|          | 0.00/22.1M [00:00<?, ?B/s]"
      ]
     },
     "metadata": {},
     "output_type": "display_data"
    },
    {
     "name": "stdout",
     "output_type": "stream",
     "text": [
      "Model loaded successfully!\n",
      "Model device: cuda:0\n",
      "Total parameters: 4,205,875\n",
      "Trainable parameters: 4,205,875\n"
     ]
    }
   ],
   "source": [
    "model = timm.create_model(\"mobilenetv3_large_100\", pretrained=True, num_classes=3)\n",
    "\n",
    "layer_count = len(list(model.named_parameters()))\n",
    "print(f\"Total layers in model: {layer_count}\")\n",
    "\n",
    "unfreeze_after = int(layer_count * 0.7)  # Keep first 70% frozen\n",
    "print(f\"Unfreezing layers after index: {unfreeze_after}\")\n",
    "\n",
    "for i, (name, param) in enumerate(model.named_parameters()):\n",
    "    if i < unfreeze_after:  # Freeze early layers\n",
    "        param.requires_grad = False\n",
    "    else:  # Unfreeze later layers\n",
    "        param.requires_grad = True\n",
    "\n",
    "classifier_in_features = model.classifier.in_features\n",
    "model.classifier = nn.Sequential(\n",
    "    nn.Linear(classifier_in_features, 256),\n",
    "    nn.BatchNorm1d(256),\n",
    "    nn.ReLU(),\n",
    "    nn.Dropout(0.3),  # Reduced dropout\n",
    "    nn.Linear(256, 128),\n",
    "    nn.BatchNorm1d(128),\n",
    "    nn.ReLU(),\n",
    "    nn.Dropout(0.3),\n",
    "    nn.Linear(128, 3),  # Final classification layer\n",
    ")\n",
    "\n",
    "model = model.to(device)\n",
    "\n",
    "print(\"Model loaded successfully!\")\n",
    "print(f\"Model device: {next(model.parameters()).device}\")\n",
    "\n",
    "total_params = sum(p.numel() for p in model.parameters())\n",
    "trainable_params = sum(p.numel() for p in model.parameters() if p.requires_grad)\n",
    "print(f\"Total parameters: {total_params:,}\")\n",
    "print(f\"Trainable parameters: {trainable_params:,}\")\n",
    "print(\n",
    "    f\"Percentage of trainable parameters: {trainable_params / total_params * 100:.2f}%\"\n",
    ")\n",
    "\n",
    "print(\"\\nFirst 5 trainable layers:\")\n",
    "trainable_layers = [\n",
    "    (name, param.shape)\n",
    "    for name, param in model.named_parameters()\n",
    "    if param.requires_grad\n",
    "]\n",
    "for name, shape in trainable_layers[:5]:\n",
    "    print(f\"  {name}: {shape}\")\n",
    "\n",
    "print(\"\\nLast 5 trainable layers:\")\n",
    "for name, shape in trainable_layers[-5:]:\n",
    "    print(f\"  {name}: {shape}\")\n",
    "\n",
    "print(f\"\\nTotal trainable layers: {len(trainable_layers)}\")"
   ]
  },
  {
   "cell_type": "code",
   "execution_count": null,
   "id": "f4e56af9",
   "metadata": {
    "execution": {
     "iopub.execute_input": "2025-06-01T14:11:43.536529Z",
     "iopub.status.busy": "2025-06-01T14:11:43.535983Z",
     "iopub.status.idle": "2025-06-01T14:11:43.543248Z",
     "shell.execute_reply": "2025-06-01T14:11:43.542515Z",
     "shell.execute_reply.started": "2025-06-01T14:11:43.536506Z"
    },
    "trusted": true
   },
   "outputs": [
    {
     "name": "stdout",
     "output_type": "stream",
     "text": [
      "Training setup complete!\n",
      "Number of epochs: 20\n",
      "Learning rate: 0.001\n",
      "Batch size: 32\n"
     ]
    }
   ],
   "source": [
    "num_epochs = 25  # Increased epochs\n",
    "learning_rate = 0.001  # Slightly increased learning rate\n",
    "weight_decay = 5e-4  # Adjusted weight decay\n",
    "max_grad_norm = 1.0\n",
    "\n",
    "criterion = nn.CrossEntropyLoss()\n",
    "optimizer = optim.AdamW(\n",
    "    [p for p in model.parameters() if p.requires_grad],\n",
    "    lr=learning_rate,\n",
    "    weight_decay=weight_decay,\n",
    ")\n",
    "\n",
    "scheduler = optim.lr_scheduler.ReduceLROnPlateau(\n",
    "    optimizer, mode=\"max\", factor=0.2, patience=4, verbose=True\n",
    ")\n",
    "\n",
    "print(\"Training setup complete!\")\n",
    "print(f\"Number of epochs: {num_epochs}\")\n",
    "print(f\"Learning rate: {learning_rate}\")\n",
    "print(f\"Weight decay: {weight_decay}\")\n",
    "print(f\"Batch size: {batch_size}\")\n",
    "print(f\"Gradient clipping max norm: {max_grad_norm}\")"
   ]
  },
  {
   "cell_type": "markdown",
   "id": "115db972",
   "metadata": {},
   "source": [
    "## Training Loop\n",
    "\n",
    "Train the model with validation monitoring."
   ]
  },
  {
   "cell_type": "code",
   "execution_count": null,
   "id": "0fb83429",
   "metadata": {
    "execution": {
     "iopub.execute_input": "2025-06-01T14:11:50.405312Z",
     "iopub.status.busy": "2025-06-01T14:11:50.405046Z",
     "iopub.status.idle": "2025-06-01T14:14:52.864246Z",
     "shell.execute_reply": "2025-06-01T14:14:52.863377Z",
     "shell.execute_reply.started": "2025-06-01T14:11:50.405292Z"
    },
    "trusted": true
   },
   "outputs": [
    {
     "name": "stdout",
     "output_type": "stream",
     "text": [
      "Starting training...\n",
      "\n",
      "Epoch 1/20\n",
      "------------------------------------------------------------\n",
      "Batch [50/88], Loss: 1.0474\n",
      "Train Loss: 1.5498, Train Acc: 72.32%\n",
      "Val Loss: 0.8546, Val Acc: 78.57%\n",
      "Best Val Acc: 78.57%\n",
      "\n",
      "Epoch 2/20\n",
      "------------------------------------------------------------\n",
      "Batch [50/88], Loss: 0.3101\n",
      "Train Loss: 0.4057, Train Acc: 88.39%\n",
      "Val Loss: 0.8881, Val Acc: 80.71%\n",
      "Best Val Acc: 80.71%\n",
      "\n",
      "Epoch 3/20\n",
      "------------------------------------------------------------\n",
      "Batch [50/88], Loss: 0.1433\n",
      "Train Loss: 0.1984, Train Acc: 94.00%\n",
      "Val Loss: 0.6635, Val Acc: 84.71%\n",
      "Best Val Acc: 84.71%\n",
      "\n",
      "Epoch 4/20\n",
      "------------------------------------------------------------\n",
      "Batch [50/88], Loss: 0.0942\n",
      "Train Loss: 0.1471, Train Acc: 95.39%\n",
      "Val Loss: 0.6839, Val Acc: 85.57%\n",
      "Best Val Acc: 85.57%\n",
      "\n",
      "Epoch 5/20\n",
      "------------------------------------------------------------\n",
      "Batch [50/88], Loss: 0.0361\n",
      "Train Loss: 0.1233, Train Acc: 95.82%\n",
      "Val Loss: 0.7854, Val Acc: 84.86%\n",
      "Best Val Acc: 85.57%\n",
      "\n",
      "Epoch 6/20\n",
      "------------------------------------------------------------\n",
      "Batch [50/88], Loss: 0.0004\n",
      "Train Loss: 0.1381, Train Acc: 96.54%\n",
      "Val Loss: 0.9452, Val Acc: 82.14%\n",
      "Best Val Acc: 85.57%\n",
      "\n",
      "Epoch 7/20\n",
      "------------------------------------------------------------\n",
      "Batch [50/88], Loss: 0.0068\n",
      "Train Loss: 0.1934, Train Acc: 95.29%\n",
      "Val Loss: 0.9538, Val Acc: 84.57%\n",
      "Best Val Acc: 85.57%\n",
      "\n",
      "Epoch 8/20\n",
      "------------------------------------------------------------\n",
      "Batch [50/88], Loss: 0.3995\n",
      "Train Loss: 0.0754, Train Acc: 97.96%\n",
      "Val Loss: 0.7667, Val Acc: 86.86%\n",
      "Best Val Acc: 86.86%\n",
      "\n",
      "Epoch 9/20\n",
      "------------------------------------------------------------\n",
      "Batch [50/88], Loss: 0.0008\n",
      "Train Loss: 0.0170, Train Acc: 99.50%\n",
      "Val Loss: 0.7177, Val Acc: 87.29%\n",
      "Best Val Acc: 87.29%\n",
      "\n",
      "Epoch 10/20\n",
      "------------------------------------------------------------\n",
      "Batch [50/88], Loss: 0.2371\n",
      "Train Loss: 0.0129, Train Acc: 99.61%\n",
      "Val Loss: 0.6949, Val Acc: 86.86%\n",
      "Best Val Acc: 87.29%\n",
      "\n",
      "Epoch 11/20\n",
      "------------------------------------------------------------\n",
      "Batch [50/88], Loss: 0.0576\n",
      "Train Loss: 0.0129, Train Acc: 99.71%\n",
      "Val Loss: 0.7023, Val Acc: 87.14%\n",
      "Best Val Acc: 87.29%\n",
      "\n",
      "Epoch 12/20\n",
      "------------------------------------------------------------\n",
      "Batch [50/88], Loss: 0.0007\n",
      "Train Loss: 0.0058, Train Acc: 99.89%\n",
      "Val Loss: 0.7228, Val Acc: 87.71%\n",
      "Best Val Acc: 87.71%\n",
      "\n",
      "Epoch 13/20\n",
      "------------------------------------------------------------\n",
      "Batch [50/88], Loss: 0.0020\n",
      "Train Loss: 0.0033, Train Acc: 99.96%\n",
      "Val Loss: 0.7056, Val Acc: 88.00%\n",
      "Best Val Acc: 88.00%\n",
      "\n",
      "Epoch 14/20\n",
      "------------------------------------------------------------\n",
      "Batch [50/88], Loss: 0.0000\n",
      "Train Loss: 0.0045, Train Acc: 99.93%\n",
      "Val Loss: 0.6937, Val Acc: 88.29%\n",
      "Best Val Acc: 88.29%\n",
      "\n",
      "Epoch 15/20\n",
      "------------------------------------------------------------\n",
      "Batch [50/88], Loss: 0.0005\n",
      "Train Loss: 0.0038, Train Acc: 99.82%\n",
      "Val Loss: 0.6540, Val Acc: 87.71%\n",
      "Best Val Acc: 88.29%\n",
      "\n",
      "Epoch 16/20\n",
      "------------------------------------------------------------\n",
      "Batch [50/88], Loss: 0.0002\n",
      "Train Loss: 0.0036, Train Acc: 99.89%\n",
      "Val Loss: 0.6917, Val Acc: 88.43%\n",
      "Best Val Acc: 88.43%\n",
      "\n",
      "Epoch 17/20\n",
      "------------------------------------------------------------\n",
      "Batch [50/88], Loss: 0.0019\n",
      "Train Loss: 0.0035, Train Acc: 99.96%\n",
      "Val Loss: 0.6795, Val Acc: 87.86%\n",
      "Best Val Acc: 88.43%\n",
      "\n",
      "Epoch 18/20\n",
      "------------------------------------------------------------\n",
      "Batch [50/88], Loss: 0.0001\n",
      "Train Loss: 0.0032, Train Acc: 99.93%\n",
      "Val Loss: 0.6965, Val Acc: 88.14%\n",
      "Best Val Acc: 88.43%\n",
      "\n",
      "Epoch 19/20\n",
      "------------------------------------------------------------\n",
      "Batch [50/88], Loss: 0.0011\n",
      "Train Loss: 0.0020, Train Acc: 100.00%\n",
      "Val Loss: 0.6660, Val Acc: 88.14%\n",
      "Best Val Acc: 88.43%\n",
      "\n",
      "Epoch 20/20\n",
      "------------------------------------------------------------\n",
      "Batch [50/88], Loss: 0.0002\n",
      "Train Loss: 0.0018, Train Acc: 100.00%\n",
      "Val Loss: 0.6888, Val Acc: 87.00%\n",
      "Best Val Acc: 88.43%\n",
      "\n",
      "Training completed! Best validation accuracy: 88.43%\n"
     ]
    }
   ],
   "source": [
    "def train_model(\n",
    "    model,\n",
    "    train_loader,\n",
    "    val_loader,\n",
    "    criterion,\n",
    "    optimizer,\n",
    "    scheduler,\n",
    "    num_epochs,\n",
    "    max_grad_norm=1.0,\n",
    "):\n",
    "    train_losses = []\n",
    "    train_accuracies = []\n",
    "    val_losses = []\n",
    "    val_accuracies = []\n",
    "    grad_norms = []\n",
    "\n",
    "    best_val_acc = 0.0\n",
    "    best_model_state = None\n",
    "    patience = 7  # Increased patience for early stopping\n",
    "    epochs_no_improve = 0\n",
    "\n",
    "    for epoch in range(num_epochs):\n",
    "        print(f\"\\nEpoch {epoch + 1}/{num_epochs}\")\n",
    "        print(\"-\" * 60)\n",
    "\n",
    "        model.train()\n",
    "        train_loss = 0.0\n",
    "        train_correct = 0\n",
    "        train_total = 0\n",
    "        epoch_grad_norms = []\n",
    "\n",
    "        for batch_idx, (images, labels) in enumerate(train_loader):\n",
    "            images, labels = images.to(device), labels.to(device)\n",
    "\n",
    "            optimizer.zero_grad()\n",
    "            outputs = model(images)\n",
    "            loss = criterion(outputs, labels)\n",
    "            loss.backward()\n",
    "\n",
    "            grad_norm = torch.nn.utils.clip_grad_norm_(\n",
    "                model.parameters(), max_grad_norm\n",
    "            )\n",
    "            epoch_grad_norms.append(grad_norm.item())\n",
    "\n",
    "            optimizer.step()\n",
    "\n",
    "            train_loss += loss.item()\n",
    "            _, predicted = torch.max(outputs.data, 1)\n",
    "            train_total += labels.size(0)\n",
    "            train_correct += (predicted == labels).sum().item()\n",
    "\n",
    "            if (batch_idx + 1) % 50 == 0:\n",
    "                print(\n",
    "                    f\"Batch [{batch_idx + 1}/{len(train_loader)}], Loss: {loss.item():.4f}, Grad Norm: {grad_norm:.4f}\"\n",
    "                )\n",
    "\n",
    "        train_acc = 100 * train_correct / train_total\n",
    "        train_loss = train_loss / len(train_loader)\n",
    "        avg_grad_norm = np.mean(epoch_grad_norms)\n",
    "        grad_norms.append(avg_grad_norm)\n",
    "\n",
    "        model.eval()\n",
    "        val_loss = 0.0\n",
    "        val_correct = 0\n",
    "        val_total = 0\n",
    "\n",
    "        with torch.no_grad():\n",
    "            for images, labels in val_loader:\n",
    "                images, labels = images.to(device), labels.to(device)\n",
    "                outputs = model(images)\n",
    "                loss = criterion(outputs, labels)\n",
    "\n",
    "                val_loss += loss.item()\n",
    "                _, predicted = torch.max(outputs.data, 1)\n",
    "                val_total += labels.size(0)\n",
    "                val_correct += (predicted == labels).sum().item()\n",
    "\n",
    "        val_acc = 100 * val_correct / val_total\n",
    "        val_loss = val_loss / len(val_loader)\n",
    "\n",
    "        train_losses.append(train_loss)\n",
    "        train_accuracies.append(train_acc)\n",
    "        val_losses.append(val_loss)\n",
    "        val_accuracies.append(val_acc)\n",
    "\n",
    "        if val_acc > best_val_acc:\n",
    "            best_val_acc = val_acc\n",
    "            best_model_state = model.state_dict().copy()\n",
    "            epochs_no_improve = 0\n",
    "        else:\n",
    "            epochs_no_improve += 1\n",
    "\n",
    "        if epochs_no_improve >= patience:\n",
    "            print(f\"Early stopping triggered after {epoch + 1} epochs!\")\n",
    "            break\n",
    "\n",
    "        print(f\"Train Loss: {train_loss:.4f}, Train Acc: {train_acc:.2f}%\")\n",
    "        print(f\"Val Loss: {val_loss:.4f}, Val Acc: {val_acc:.2f}%\")\n",
    "        print(\n",
    "            f\"    Best Val Acc: {best_val_acc:.2f}%, Avg Grad Norm: {avg_grad_norm:.4f}\"\n",
    "        )\n",
    "        if epochs_no_improve > 0:\n",
    "            print(f\"    Epochs without improvement: {epochs_no_improve}/{patience}\")\n",
    "\n",
    "        scheduler.step(val_acc)\n",
    "\n",
    "    return {\n",
    "        \"train_losses\": train_losses,\n",
    "        \"train_accuracies\": train_accuracies,\n",
    "        \"val_losses\": val_losses,\n",
    "        \"val_accuracies\": val_accuracies,\n",
    "        \"grad_norms\": grad_norms,\n",
    "        \"best_model_state\": best_model_state,\n",
    "        \"best_val_acc\": best_val_acc,\n",
    "    }\n",
    "\n",
    "\n",
    "# Start training\n",
    "print(\"Starting training...\")\n",
    "training_results = train_model(\n",
    "    model,\n",
    "    train_loader,\n",
    "    val_loader,\n",
    "    criterion,\n",
    "    optimizer,\n",
    "    scheduler,\n",
    "    num_epochs,\n",
    "    max_grad_norm,\n",
    ")\n",
    "print(\n",
    "    f\"\\nTraining completed! Best validation accuracy: {training_results['best_val_acc']:.2f}%\"\n",
    ")"
   ]
  },
  {
   "cell_type": "markdown",
   "id": "aaa14db6",
   "metadata": {},
   "source": [
    "## Training Results Visualization\n",
    "\n",
    "Plot training and validation metrics."
   ]
  },
  {
   "cell_type": "code",
   "execution_count": null,
   "id": "c1d58b1b",
   "metadata": {
    "execution": {
     "iopub.execute_input": "2025-06-01T14:15:59.043674Z",
     "iopub.status.busy": "2025-06-01T14:15:59.043342Z",
     "iopub.status.idle": "2025-06-01T14:15:59.496582Z",
     "shell.execute_reply": "2025-06-01T14:15:59.495832Z",
     "shell.execute_reply.started": "2025-06-01T14:15:59.043645Z"
    },
    "trusted": true
   },
   "outputs": [
    {
     "data": {
      "image/png": "[encoded data removed]",
      "text/plain": [
       "<Figure size 1500x500 with 2 Axes>"
      ]
     },
     "metadata": {},
     "output_type": "display_data"
    },
    {
     "name": "stdout",
     "output_type": "stream",
     "text": [
      "Final Train Accuracy: 100.00%\n",
      "Final Validation Accuracy: 87.00%\n",
      "Best Validation Accuracy: 88.43%\n"
     ]
    }
   ],
   "source": [
    "fig, (ax1, ax2, ax3) = plt.subplots(1, 3, figsize=(20, 5))\n",
    "\n",
    "ax1.plot(training_results[\"train_losses\"], label=\"Train Loss\", color=\"blue\")\n",
    "ax1.plot(training_results[\"val_losses\"], label=\"Validation Loss\", color=\"red\")\n",
    "ax1.set_title(\"Training and Validation Loss\")\n",
    "ax1.set_xlabel(\"Epoch\")\n",
    "ax1.set_ylabel(\"Loss\")\n",
    "ax1.legend()\n",
    "ax1.grid(True)\n",
    "\n",
    "ax2.plot(training_results[\"train_accuracies\"], label=\"Train Accuracy\", color=\"blue\")\n",
    "ax2.plot(training_results[\"val_accuracies\"], label=\"Validation Accuracy\", color=\"red\")\n",
    "ax2.set_title(\"Training and Validation Accuracy\")\n",
    "ax2.set_xlabel(\"Epoch\")\n",
    "ax2.set_ylabel(\"Accuracy (%)\")\n",
    "ax2.legend()\n",
    "ax2.grid(True)\n",
    "\n",
    "ax3.plot(training_results[\"grad_norms\"], label=\"Gradient Norm\", color=\"green\")\n",
    "ax3.axhline(\n",
    "    y=max_grad_norm,\n",
    "    color=\"red\",\n",
    "    linestyle=\"--\",\n",
    "    label=f\"Clipping Threshold ({max_grad_norm})\",\n",
    ")\n",
    "ax3.set_title(\"Average Gradient Norm per Epoch\")\n",
    "ax3.set_xlabel(\"Epoch\")\n",
    "ax3.set_ylabel(\"Gradient Norm\")\n",
    "ax3.legend()\n",
    "ax3.grid(True)\n",
    "\n",
    "plt.tight_layout()\n",
    "plt.show()\n",
    "\n",
    "print(f\"Final Train Accuracy: {training_results['train_accuracies'][-1]:.2f}%\")\n",
    "print(f\"Final Validation Accuracy: {training_results['val_accuracies'][-1]:.2f}%\")\n",
    "print(f\"Best Validation Accuracy: {training_results['best_val_acc']:.2f}%\")\n",
    "print(f\"Final Average Gradient Norm: {training_results['grad_norms'][-1]:.4f}\")"
   ]
  },
  {
   "cell_type": "markdown",
   "id": "21f11c54",
   "metadata": {},
   "source": [
    "## Model Evaluation\n",
    "\n",
    "Load the best model and evaluate on validation set with detailed metrics."
   ]
  },
  {
   "cell_type": "code",
   "execution_count": null,
   "id": "40129b94",
   "metadata": {
    "execution": {
     "iopub.execute_input": "2025-06-01T14:16:02.305672Z",
     "iopub.status.busy": "2025-06-01T14:16:02.305047Z",
     "iopub.status.idle": "2025-06-01T14:16:04.202677Z",
     "shell.execute_reply": "2025-06-01T14:16:04.201833Z",
     "shell.execute_reply.started": "2025-06-01T14:16:02.305648Z"
    },
    "trusted": true
   },
   "outputs": [
    {
     "name": "stdout",
     "output_type": "stream",
     "text": [
      "Classification Report:\n",
      "              precision    recall  f1-score   support\n",
      "\n",
      "       angry       0.85      0.82      0.84       262\n",
      "       happy       0.89      0.84      0.86       195\n",
      "         sad       0.87      0.95      0.91       243\n",
      "\n",
      "    accuracy                           0.87       700\n",
      "   macro avg       0.87      0.87      0.87       700\n",
      "weighted avg       0.87      0.87      0.87       700\n",
      "\n"
     ]
    },
    {
     "data": {
      "image/png": "[encoded data removed]",
      "text/plain": [
       "<Figure size 800x600 with 2 Axes>"
      ]
     },
     "metadata": {},
     "output_type": "display_data"
    }
   ],
   "source": [
    "model.load_state_dict(training_results[\"best_model_state\"])\n",
    "model.eval()\n",
    "\n",
    "all_predictions = []\n",
    "all_labels = []\n",
    "\n",
    "with torch.no_grad():\n",
    "    for images, labels in val_loader:\n",
    "        images, labels = images.to(device), labels.to(device)\n",
    "        outputs = model(images)\n",
    "        _, predicted = torch.max(outputs, 1)\n",
    "\n",
    "        all_predictions.extend(predicted.cpu().numpy())\n",
    "        all_labels.extend(labels.cpu().numpy())\n",
    "\n",
    "all_predictions = np.array(all_predictions)\n",
    "all_labels = np.array(all_labels)\n",
    "\n",
    "class_names = [\"angry\", \"happy\", \"sad\"]\n",
    "print(\"Classification Report:\")\n",
    "print(classification_report(all_labels, all_predictions, target_names=class_names))\n",
    "\n",
    "cm = confusion_matrix(all_labels, all_predictions)\n",
    "plt.figure(figsize=(8, 6))\n",
    "sns.heatmap(\n",
    "    cm,\n",
    "    annot=True,\n",
    "    fmt=\"d\",\n",
    "    cmap=\"Blues\",\n",
    "    xticklabels=class_names,\n",
    "    yticklabels=class_names,\n",
    ")\n",
    "plt.title(\"Confusion Matrix\")\n",
    "plt.xlabel(\"Predicted\")\n",
    "plt.ylabel(\"Actual\")\n",
    "plt.show()"
   ]
  },
  {
   "cell_type": "markdown",
   "id": "eee80f12",
   "metadata": {},
   "source": [
    "## Save the Model\n",
    "\n",
    "Save the trained model for future use."
   ]
  },
  {
   "cell_type": "code",
   "execution_count": null,
   "id": "6e9a308b",
   "metadata": {
    "execution": {
     "iopub.execute_input": "2025-06-01T14:16:07.535106Z",
     "iopub.status.busy": "2025-06-01T14:16:07.534339Z",
     "iopub.status.idle": "2025-06-01T14:16:07.596589Z",
     "shell.execute_reply": "2025-06-01T14:16:07.595895Z",
     "shell.execute_reply.started": "2025-06-01T14:16:07.535077Z"
    },
    "trusted": true
   },
   "outputs": [
    {
     "name": "stdout",
     "output_type": "stream",
     "text": [
      "Model saved successfully to: /kaggle/working/pet_emotion_model/mobilenetv3_pet_emotion_classifier.pth\n",
      "Model configuration saved to: /kaggle/working/pet_emotion_model/model_config.txt\n",
      "\n",
      "Saved files:\n",
      "  model_config.txt: 0.00 MB\n",
      "  mobilenetv3_pet_emotion_classifier.pth: 16.24 MB\n"
     ]
    }
   ],
   "source": [
    "model_dir = \"/kaggle/working/pet_emotion_model\"\n",
    "os.makedirs(model_dir, exist_ok=True)\n",
    "\n",
    "model_path = os.path.join(model_dir, \"mobilenetv3_pet_emotion_classifier.pth\")\n",
    "torch.save(\n",
    "    {\n",
    "        \"model_state_dict\": training_results[\"best_model_state\"],\n",
    "        \"model_architecture\": \"mobilenetv3_large_100\",\n",
    "        \"num_classes\": 3,\n",
    "        \"class_names\": class_names,\n",
    "        \"class_to_idx\": full_dataset.class_to_idx,\n",
    "        \"best_val_acc\": training_results[\"best_val_acc\"],\n",
    "        \"train_transforms\": str(train_transforms),\n",
    "        \"val_transforms\": str(val_transforms),\n",
    "        \"custom_classifier\": True,  # Flag indicating we used a custom classifier\n",
    "        \"classifier_config\": {\n",
    "            \"input_size\": model.classifier[0].in_features,\n",
    "            \"hidden_sizes\": [256, 128],\n",
    "            \"dropout\": 0.3,\n",
    "        },\n",
    "    },\n",
    "    model_path,\n",
    ")\n",
    "\n",
    "config_path = os.path.join(model_dir, \"model_config.txt\")\n",
    "with open(config_path, \"w\") as f:\n",
    "    f.write(\"Model: MobileNetV3 Large 100\\n\")\n",
    "    f.write(\"Number of classes: 3\\n\")\n",
    "    f.write(f\"Class names: {class_names}\\n\")\n",
    "    f.write(f\"Class to index mapping: {full_dataset.class_to_idx}\\n\")\n",
    "    f.write(f\"Best validation accuracy: {training_results['best_val_acc']:.2f}%\\n\")\n",
    "    f.write(f\"Total training images: {len(train_dataset)}\\n\")\n",
    "    f.write(f\"Total validation images: {len(val_dataset)}\\n\")\n",
    "    f.write(f\"Training epochs: {num_epochs}\\n\")\n",
    "    f.write(f\"Batch size: {batch_size}\\n\")\n",
    "    f.write(f\"Learning rate: {learning_rate}\\n\")\n",
    "    f.write(\"Custom classifier: Yes (3-layer MLP with BatchNorm)\\n\")\n",
    "\n",
    "print(f\"Model saved successfully to: {model_path}\")\n",
    "print(f\"Model configuration saved to: {config_path}\")\n",
    "\n",
    "print(\"\\nSaved files:\")\n",
    "for file in os.listdir(model_dir):\n",
    "    file_path = os.path.join(model_dir, file)\n",
    "    file_size = os.path.getsize(file_path) / (1024 * 1024)  # Size in MB\n",
    "    print(f\"  {file}: {file_size:.2f} MB\")"
   ]
  },
  {
   "cell_type": "markdown",
   "id": "81045b09",
   "metadata": {},
   "source": [
    "## Model Loading Example\n",
    "\n",
    "Example of how to load and use the saved model for inference."
   ]
  },
  {
   "cell_type": "code",
   "execution_count": null,
   "id": "d650cf4d",
   "metadata": {
    "execution": {
     "iopub.execute_input": "2025-06-01T14:16:24.343925Z",
     "iopub.status.busy": "2025-06-01T14:16:24.343640Z",
     "iopub.status.idle": "2025-06-01T14:16:24.527495Z",
     "shell.execute_reply": "2025-06-01T14:16:24.526671Z",
     "shell.execute_reply.started": "2025-06-01T14:16:24.343903Z"
    },
    "trusted": true
   },
   "outputs": [
    {
     "name": "stdout",
     "output_type": "stream",
     "text": [
      "Model loaded successfully!\n",
      "Best validation accuracy: 88.43%\n",
      "Class names: ['angry', 'happy', 'sad']\n",
      "\n",
      "Model is ready for inference!\n",
      "Use the predict_emotion function to classify new pet images.\n"
     ]
    }
   ],
   "source": [
    "def load_trained_model(model_path):\n",
    "    \"\"\"Load the trained model for inference\"\"\"\n",
    "    checkpoint = torch.load(model_path, map_location=device)\n",
    "\n",
    "    model = timm.create_model(\"mobilenetv3_large_100\", pretrained=False, num_classes=3)\n",
    "\n",
    "    classifier_in_features = model.classifier.in_features\n",
    "    model.classifier = nn.Sequential(\n",
    "        nn.Linear(classifier_in_features, 256),\n",
    "        nn.BatchNorm1d(256),\n",
    "        nn.ReLU(),\n",
    "        nn.Dropout(0.3),\n",
    "        nn.Linear(256, 128),\n",
    "        nn.BatchNorm1d(128),\n",
    "        nn.ReLU(),\n",
    "        nn.Dropout(0.3),\n",
    "        nn.Linear(128, 3),\n",
    "    )\n",
    "\n",
    "    model.load_state_dict(checkpoint[\"model_state_dict\"])\n",
    "    model.to(device)\n",
    "    model.eval()\n",
    "\n",
    "    return model, checkpoint\n",
    "\n",
    "\n",
    "loaded_model, checkpoint = load_trained_model(model_path)\n",
    "print(\"Model loaded successfully!\")\n",
    "print(f\"Best validation accuracy: {checkpoint['best_val_acc']:.2f}%\")\n",
    "print(f\"Class names: {checkpoint['class_names']}\")\n",
    "\n",
    "\n",
    "def predict_emotion(model, image_path, transform):\n",
    "    \"\"\"Predict emotion for a single image\"\"\"\n",
    "    image = Image.open(image_path).convert(\"RGB\")\n",
    "    image_tensor = transform(image).unsqueeze(0).to(device)\n",
    "\n",
    "    with torch.no_grad():\n",
    "        outputs = model(image_tensor)\n",
    "        probabilities = torch.nn.functional.softmax(outputs[0], dim=0)\n",
    "        predicted_class = torch.argmax(outputs, dim=1).item()\n",
    "\n",
    "        class_idx_to_name = {\n",
    "            idx: name for name, idx in checkpoint[\"class_to_idx\"].items()\n",
    "        }\n",
    "        emotion = class_idx_to_name[predicted_class]\n",
    "\n",
    "    return emotion, probabilities.cpu().numpy()\n",
    "\n",
    "\n",
    "print(\"\\nModel is ready for inference!\")\n",
    "print(\"Use the predict_emotion function to classify new pet images.\")"
   ]
  },
  {
   "cell_type": "markdown",
   "id": "561aefdd",
   "metadata": {},
   "source": [
    "## Summary\n",
    "\n",
    "### Training Results:\n",
    "- **Model**: MobileNetV3 Large 100\n",
    "- **Classes**: angry, happy, sad\n",
    "- **Best Validation Accuracy**: {:.2f}%\n",
    "- **Total Images**: Combined from Dog Emotion and Pet Expression datasets\n",
    "- **Training Strategy**: Transfer learning with data augmentation\n",
    "\n",
    "### Files Saved:\n",
    "- `mobilenetv3_pet_emotion_classifier.pth`: Complete model checkpoint\n",
    "- `model_config.txt`: Model configuration and metadata\n",
    "\n",
    "The model is now ready for deployment and can classify pet emotions into three categories: angry, happy, and sad."
   ]
  }
 ],
 "metadata": {
  "kaggle": {
   "accelerator": "gpu",
   "dataSources": [
    {
     "datasetId": 2882322,
     "sourceId": 4969612,
     "sourceType": "datasetVersion"
    },
    {
     "datasetId": 3546787,
     "sourceId": 6665954,
     "sourceType": "datasetVersion"
    }
   ],
   "dockerImageVersionId": 31041,
   "isGpuEnabled": true,
   "isInternetEnabled": true,
   "language": "python",
   "sourceType": "notebook"
  },
  "kernelspec": {
   "display_name": "Python 3",
   "language": "python",
   "name": "python3"
  },
  "language_info": {
   "codemirror_mode": {
    "name": "ipython",
    "version": 3
   },
   "file_extension": ".py",
   "mimetype": "text/x-python",
   "name": "python",
   "nbconvert_exporter": "python",
   "pygments_lexer": "ipython3",
   "version": "3.11.11"
  }
 },
 "nbformat": 4,
 "nbformat_minor": 5
}
